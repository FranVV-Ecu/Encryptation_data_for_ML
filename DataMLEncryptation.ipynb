{
 "cells": [
  {
   "cell_type": "markdown",
   "metadata": {},
   "source": [
    "# Data encryptation for ML models.\n",
    "\n",
    "## Description \n",
    "\n",
    "It's required to protect the data of the clients of the insurance company \"Any Flood\". We will develop a method of data transformation so that it will be difficult to recover personal information from it. We will justify the correctness of its work.\n",
    "\n",
    "We need to protect the data so that the quality of machine learning models does not deteriorate during the transformation. It is not necessary to select the best model.\n",
    "\n",
    "## Data description\n",
    "\n",
    "\n",
    " - **Attributes:** gender, age and salary of the insured, number of family members.\n",
    " - **Target Aributes:** number of insurance payments to the client for the last 5 years."
   ]
  },
  {
   "cell_type": "markdown",
   "metadata": {},
   "source": [
    "## 1. Data loading"
   ]
  },
  {
   "cell_type": "code",
   "execution_count": 1,
   "metadata": {},
   "outputs": [
    {
     "name": "stdout",
     "output_type": "stream",
     "text": [
      "<class 'pandas.core.frame.DataFrame'>\n",
      "RangeIndex: 5000 entries, 0 to 4999\n",
      "Data columns (total 5 columns):\n",
      "Пол                  5000 non-null int64\n",
      "Возраст              5000 non-null float64\n",
      "Зарплата             5000 non-null float64\n",
      "Члены семьи          5000 non-null int64\n",
      "Страховые выплаты    5000 non-null int64\n",
      "dtypes: float64(2), int64(3)\n",
      "memory usage: 195.4 KB\n"
     ]
    }
   ],
   "source": [
    "import pandas as pd\n",
    "\n",
    "df= pd.read_csv('/datasets/insurance.csv')\n",
    "\n",
    "df.info()"
   ]
  },
  {
   "cell_type": "code",
   "execution_count": 2,
   "metadata": {},
   "outputs": [
    {
     "data": {
      "text/plain": [
       "Пол                  0\n",
       "Возраст              0\n",
       "Зарплата             0\n",
       "Члены семьи          0\n",
       "Страховые выплаты    0\n",
       "dtype: int64"
      ]
     },
     "execution_count": 2,
     "metadata": {},
     "output_type": "execute_result"
    }
   ],
   "source": [
    "df.isna().sum()"
   ]
  },
  {
   "cell_type": "code",
   "execution_count": 3,
   "metadata": {},
   "outputs": [
    {
     "data": {
      "text/plain": [
       "153"
      ]
     },
     "execution_count": 3,
     "metadata": {},
     "output_type": "execute_result"
    }
   ],
   "source": [
    "df.duplicated().sum()"
   ]
  },
  {
   "cell_type": "code",
   "execution_count": 4,
   "metadata": {},
   "outputs": [
    {
     "data": {
      "text/html": [
       "<div>\n",
       "<style scoped>\n",
       "    .dataframe tbody tr th:only-of-type {\n",
       "        vertical-align: middle;\n",
       "    }\n",
       "\n",
       "    .dataframe tbody tr th {\n",
       "        vertical-align: top;\n",
       "    }\n",
       "\n",
       "    .dataframe thead th {\n",
       "        text-align: right;\n",
       "    }\n",
       "</style>\n",
       "<table border=\"1\" class=\"dataframe\">\n",
       "  <thead>\n",
       "    <tr style=\"text-align: right;\">\n",
       "      <th></th>\n",
       "      <th>Пол</th>\n",
       "      <th>Возраст</th>\n",
       "      <th>Зарплата</th>\n",
       "      <th>Члены семьи</th>\n",
       "      <th>Страховые выплаты</th>\n",
       "    </tr>\n",
       "  </thead>\n",
       "  <tbody>\n",
       "    <tr>\n",
       "      <td>281</td>\n",
       "      <td>1</td>\n",
       "      <td>39.0</td>\n",
       "      <td>48100.0</td>\n",
       "      <td>1</td>\n",
       "      <td>0</td>\n",
       "    </tr>\n",
       "    <tr>\n",
       "      <td>488</td>\n",
       "      <td>1</td>\n",
       "      <td>24.0</td>\n",
       "      <td>32900.0</td>\n",
       "      <td>1</td>\n",
       "      <td>0</td>\n",
       "    </tr>\n",
       "    <tr>\n",
       "      <td>513</td>\n",
       "      <td>0</td>\n",
       "      <td>31.0</td>\n",
       "      <td>37400.0</td>\n",
       "      <td>2</td>\n",
       "      <td>0</td>\n",
       "    </tr>\n",
       "    <tr>\n",
       "      <td>718</td>\n",
       "      <td>1</td>\n",
       "      <td>22.0</td>\n",
       "      <td>32600.0</td>\n",
       "      <td>1</td>\n",
       "      <td>0</td>\n",
       "    </tr>\n",
       "    <tr>\n",
       "      <td>785</td>\n",
       "      <td>0</td>\n",
       "      <td>20.0</td>\n",
       "      <td>35800.0</td>\n",
       "      <td>0</td>\n",
       "      <td>0</td>\n",
       "    </tr>\n",
       "    <tr>\n",
       "      <td>...</td>\n",
       "      <td>...</td>\n",
       "      <td>...</td>\n",
       "      <td>...</td>\n",
       "      <td>...</td>\n",
       "      <td>...</td>\n",
       "    </tr>\n",
       "    <tr>\n",
       "      <td>4793</td>\n",
       "      <td>1</td>\n",
       "      <td>24.0</td>\n",
       "      <td>37800.0</td>\n",
       "      <td>0</td>\n",
       "      <td>0</td>\n",
       "    </tr>\n",
       "    <tr>\n",
       "      <td>4902</td>\n",
       "      <td>1</td>\n",
       "      <td>35.0</td>\n",
       "      <td>38700.0</td>\n",
       "      <td>1</td>\n",
       "      <td>0</td>\n",
       "    </tr>\n",
       "    <tr>\n",
       "      <td>4935</td>\n",
       "      <td>1</td>\n",
       "      <td>19.0</td>\n",
       "      <td>32700.0</td>\n",
       "      <td>0</td>\n",
       "      <td>0</td>\n",
       "    </tr>\n",
       "    <tr>\n",
       "      <td>4945</td>\n",
       "      <td>1</td>\n",
       "      <td>21.0</td>\n",
       "      <td>45800.0</td>\n",
       "      <td>0</td>\n",
       "      <td>0</td>\n",
       "    </tr>\n",
       "    <tr>\n",
       "      <td>4965</td>\n",
       "      <td>0</td>\n",
       "      <td>22.0</td>\n",
       "      <td>40100.0</td>\n",
       "      <td>1</td>\n",
       "      <td>0</td>\n",
       "    </tr>\n",
       "  </tbody>\n",
       "</table>\n",
       "<p>153 rows × 5 columns</p>\n",
       "</div>"
      ],
      "text/plain": [
       "      Пол  Возраст  Зарплата  Члены семьи  Страховые выплаты\n",
       "281     1     39.0   48100.0            1                  0\n",
       "488     1     24.0   32900.0            1                  0\n",
       "513     0     31.0   37400.0            2                  0\n",
       "718     1     22.0   32600.0            1                  0\n",
       "785     0     20.0   35800.0            0                  0\n",
       "...   ...      ...       ...          ...                ...\n",
       "4793    1     24.0   37800.0            0                  0\n",
       "4902    1     35.0   38700.0            1                  0\n",
       "4935    1     19.0   32700.0            0                  0\n",
       "4945    1     21.0   45800.0            0                  0\n",
       "4965    0     22.0   40100.0            1                  0\n",
       "\n",
       "[153 rows x 5 columns]"
      ]
     },
     "execution_count": 4,
     "metadata": {},
     "output_type": "execute_result"
    }
   ],
   "source": [
    "duplicates = df[df.duplicated()]\n",
    "\n",
    "duplicates"
   ]
  },
  {
   "cell_type": "markdown",
   "metadata": {},
   "source": [
    "## 2. Matrix multiplication"
   ]
  },
  {
   "cell_type": "markdown",
   "metadata": {},
   "source": [
    "Notation:\n",
    "\n",
    "- $X$ - feature matrix (zero column consists of units)\n",
    "\n",
    "- $y$ - vector of target attribute\n",
    "\n",
    "- $P$ - matrix by which the signs are multiplied\n",
    "\n",
    "- $w$ - vector of linear regression weights (zero element is equal to the shift)"
   ]
  },
  {
   "cell_type": "markdown",
   "metadata": {},
   "source": [
    "Prediction:\n",
    "\n",
    "$$\n",
    "a = Xw\n",
    "$$\n",
    "\n",
    "Learning target:\n",
    "\n",
    "$$\n",
    "w = \\arg\\min_w MSE(Xw, y)\n",
    "$$\n",
    "\n",
    "Learning formula:\n",
    "\n",
    "$$\n",
    "w = (X^T X)^{-1} X^T y\n",
    "$$"
   ]
  },
  {
   "cell_type": "markdown",
   "metadata": {},
   "source": [
    "**Answer:** \n",
    "When the signs are multiplied by a reversible matrix, the quality of the linear regression will not change.\n",
    "\n",
    "**Justification: \n",
    "\n",
    "Formula  Squared Error:\n",
    "\n",
    "$$\n",
    "SE = \\sum_{i=1}^{n} (y_i - a_i)^2 \n",
    "$$\n",
    "\n",
    "Prediction formula in matrix form:\n",
    "$$\n",
    "a = Xw = X(X^T X)^{-1} X^T y\n",
    "$$\n",
    "Let the matrix Z be reversible:\n",
    "\n",
    "Multiply the matrix X by the reversible Z in the prediction formula:\n",
    "$$\n",
    "a^{,} = XZ((XZ)^T XZ)^{-1} (XZ)^T\n",
    "$$\n",
    "Let's transform the formula with the help of the reversible matrix property:\n",
    "$$\n",
    "(AB)^{-1}= В^{-1}A^{-1}\n",
    "$$\n",
    "\n",
    "$$\n",
    "a^{,} = XZ(XZ)^{-1}((XZ)^T)^{-1}(XZ)^T\n",
    "$$\n",
    "\n",
    "Let's transform the formula using the matrix transportation property:\n",
    "$$\n",
    "(AB)^T= В^TA^T\n",
    "$$\n",
    "\n",
    "$$\n",
    "a^{,} = XZZ^{-1}X^{-1}(Z^T X^T)^{-1}(XZ)^T\n",
    "$$\n",
    "\n",
    "Applying the equality:\n",
    "$$\n",
    "AA^{-1} = A^{-1}A = E\n",
    "$$\n",
    "Где:\n",
    "- $E$ — unit matrix \n",
    "\n",
    "$$\n",
    "a^{,} = XEX^{-1}(X^T)^{-1} (Z^T)^{-1}Z^TX^T\n",
    "$$\n",
    "\n",
    "$$\n",
    "a^{,} = XEX^{-1}(X^T)^{-1} E X^T\n",
    "$$\n",
    "\n",
    "Applying equality:\n",
    "\n",
    "$$\n",
    "AE = EA = A\n",
    "$$\n",
    "$$\n",
    "a^{,} = XX^{-1}(X^T)^{-1}  X^T\n",
    "$$\n",
    "$$\n",
    "a^{,} = X(X^TX)^{-1}  X^T\n",
    "$$\n",
    "\n",
    "Getting:\n",
    "\n",
    "$$\n",
    "a = a^{,} \n",
    "$$\n",
    "\n",
    "Thus :\n",
    "\n",
    "$$\n",
    "\\sum_{i=1}^{n} (y_i - a_i)^2  = \\sum_{i=1}^{n} (y_i - a^{,}_i)^2\n",
    "$$\n",
    "\n",
    "Which is a proof of the assumption that when the signs are multiplied by a reversible matrix, the quality of the linear regression will not change."
   ]
  },
  {
   "cell_type": "markdown",
   "metadata": {},
   "source": [
    "## 3. Conversion algorithm"
   ]
  },
  {
   "cell_type": "markdown",
   "metadata": {},
   "source": [
    "**Algorithm**\n",
    "\n",
    "1. Defining the feature and clonal feature\n",
    "2. Training model without transformation\n",
    "3. Obtaining the R2 metric on the model without transformation\n",
    "4. Creating a random reversible matrix\n",
    "5. Multiplying the reversible matrix by the feature matrix\n",
    "6. Training the model on the reversible features\n",
    "7. Obtaining the R2 therics of the transformed features\n",
    "8. Comparison of metrics, conclusion"
   ]
  },
  {
   "cell_type": "markdown",
   "metadata": {},
   "source": [
    "**Rationale**\n",
    "\n",
    "The algorithm is justified on analytical proof is given in paragraph 2"
   ]
  },
  {
   "cell_type": "markdown",
   "metadata": {},
   "source": [
    "## 4. Algorithm validation"
   ]
  },
  {
   "cell_type": "code",
   "execution_count": 5,
   "metadata": {},
   "outputs": [],
   "source": [
    "import numpy as np\n",
    "\n",
    "# Определение признаков для обучения  модели \n",
    "\n",
    "features = df.drop(['Страховые выплаты'], axis = 1)\n",
    "\n",
    "target = df['Страховые выплаты']"
   ]
  },
  {
   "cell_type": "code",
   "execution_count": 6,
   "metadata": {},
   "outputs": [
    {
     "data": {
      "text/plain": [
       "0.424946"
      ]
     },
     "execution_count": 6,
     "metadata": {},
     "output_type": "execute_result"
    }
   ],
   "source": [
    "from sklearn.linear_model import LinearRegression\n",
    "from sklearn.metrics import r2_score\n",
    "    \n",
    "# Defining features for model training\n",
    "\n",
    "model=  LinearRegression()\n",
    "model.fit(features,target)\n",
    "prediction = model.predict(features)\n",
    "\n",
    "r2 = r2_score(target,prediction).round(6)\n",
    "\n",
    "r2"
   ]
  },
  {
   "cell_type": "code",
   "execution_count": 7,
   "metadata": {},
   "outputs": [
    {
     "data": {
      "text/plain": [
       "[[4, 4, 5, 3], [8, 2, 3, 0], [7, 1, 4, 7], [9, 0, 7, 3]]"
      ]
     },
     "execution_count": 7,
     "metadata": {},
     "output_type": "execute_result"
    }
   ],
   "source": [
    "from random import randint\n",
    "\n",
    "# Function for creating a reversible matrix\n",
    "def invertible_matrix(i,j):\n",
    "    matrix = [[randint(0,9) for x in range(i)] for x in range(j)]\n",
    "    try:\n",
    "        inverse = np.linalg.inv(matrix)\n",
    "    except np.linalg.LinAlgError:\n",
    "    # Let's skip the irreversible matrix.\n",
    "        pass\n",
    "    else:\n",
    "        return matrix \n",
    "    \n",
    "Z = invertible_matrix(4,4)\n",
    "Z"
   ]
  },
  {
   "cell_type": "code",
   "execution_count": 8,
   "metadata": {},
   "outputs": [],
   "source": [
    "# Transformation: multiplication of the feature matrix by a reversible matrix\n",
    "\n",
    "features_transformed = np.dot(features, Z)"
   ]
  },
  {
   "cell_type": "code",
   "execution_count": 9,
   "metadata": {},
   "outputs": [
    {
     "data": {
      "text/plain": [
       "0.424946"
      ]
     },
     "execution_count": 9,
     "metadata": {},
     "output_type": "execute_result"
    }
   ],
   "source": [
    "# Training of the model after transformationия\n",
    "\n",
    "model_transformed =  LinearRegression()\n",
    "model_transformed.fit(features_transformed, target)\n",
    "prediction_transformed = model_transformed.predict(features_transformed)\n",
    "\n",
    "r2_transformed = r2_score(target, prediction_transformed).round(6)\n",
    "\n",
    "r2_transformed"
   ]
  },
  {
   "cell_type": "code",
   "execution_count": 10,
   "metadata": {},
   "outputs": [
    {
     "name": "stdout",
     "output_type": "stream",
     "text": [
      "Гипотеза верная: при умножения признаки на обратимую матрицу, качество линейной регресии не изменится.\n"
     ]
    }
   ],
   "source": [
    "if r2 == r2_transformed:\n",
    "    print(\"The hypothesis is correct: when the signs are multiplied by a reversible matrix, the quality of the linear regression will not change.\")\n",
    "    \n",
    "else:\n",
    "    print(\"There seems to be a mistake somewhere)"
   ]
  },
  {
   "cell_type": "code",
   "execution_count": null,
   "metadata": {},
   "outputs": [],
   "source": []
  }
 ],
 "metadata": {
  "kernelspec": {
   "display_name": "Python 3",
   "language": "python",
   "name": "python3"
  },
  "language_info": {
   "codemirror_mode": {
    "name": "ipython",
    "version": 3
   },
   "file_extension": ".py",
   "mimetype": "text/x-python",
   "name": "python",
   "nbconvert_exporter": "python",
   "pygments_lexer": "ipython3",
   "version": "3.7.4"
  }
 },
 "nbformat": 4,
 "nbformat_minor": 2
}
